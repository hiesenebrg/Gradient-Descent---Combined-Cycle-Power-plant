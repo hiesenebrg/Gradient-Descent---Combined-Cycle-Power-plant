{
 "cells": [
  {
   "cell_type": "code",
   "execution_count": 1,
   "id": "416b87dc",
   "metadata": {},
   "outputs": [
    {
     "name": "stderr",
     "output_type": "stream",
     "text": [
      "c:\\users\\adarsh\\appdata\\local\\programs\\python\\python37\\lib\\site-packages\\sklearn\\ensemble\\weight_boosting.py:29: DeprecationWarning: numpy.core.umath_tests is an internal NumPy module and should not be imported. It will be removed in a future NumPy release.\n",
      "  from numpy.core.umath_tests import inner1d\n"
     ]
    }
   ],
   "source": [
    "import numpy as np\n",
    "import pandas as pd\n",
    "import sklearn.model_selection as ms\n",
    "import sklearn.preprocessing as ppg\n",
    "from sklearn.linear_model import LinearRegression as LR\n",
    "from sklearn.ensemble import GradientBoostingRegressor as GBR\n",
    "data = np.loadtxt(\"training_ccpp_x_y_train.csv\", delimiter =\",\")\n",
    "x_train = data[:,:-1]\n",
    "y_train = data[:, -1]\n",
    "x_test = np.loadtxt(\"test_ccpp_x_test.csv\", delimiter = \",\")\n",
    "model = GBR()\n",
    "model.fit(x_train, y_train)\n",
    "y_test = model.predict(x_test)\n",
    "np.savetxt(\"y_ccpp_predicted.csv\", y_test)"
   ]
  },
  {
   "cell_type": "code",
   "execution_count": null,
   "id": "758d3f51",
   "metadata": {},
   "outputs": [],
   "source": []
  }
 ],
 "metadata": {
  "kernelspec": {
   "display_name": "Python 3",
   "language": "python",
   "name": "python3"
  },
  "language_info": {
   "codemirror_mode": {
    "name": "ipython",
    "version": 3
   },
   "file_extension": ".py",
   "mimetype": "text/x-python",
   "name": "python",
   "nbconvert_exporter": "python",
   "pygments_lexer": "ipython3",
   "version": "3.7.0"
  }
 },
 "nbformat": 4,
 "nbformat_minor": 5
}
